{
 "cells": [
  {
   "cell_type": "markdown",
   "id": "0f61afef-4cef-4d8f-98fd-135a8ab739da",
   "metadata": {},
   "source": [
    "Exectable Running Code for testing"
   ]
  },
  {
   "cell_type": "code",
   "execution_count": 3,
   "id": "75384f87-6190-4b8d-bffa-f5cdc17366c5",
   "metadata": {},
   "outputs": [
    {
     "name": "stdin",
     "output_type": "stream",
     "text": [
      "Enter a sentence for NER prediction:  hari has some medical issues for that reason he is absent today and they are planning to visit london for health check up the day after tomorrow.\n"
     ]
    },
    {
     "name": "stdout",
     "output_type": "stream",
     "text": [
      "1/1 [==============================] - 1s 814ms/step\n",
      "\n",
      "Predicted NER Tags:\n",
      "hari: I-gpe\n",
      "has: O\n",
      "some: O\n",
      "medical: O\n",
      "issues: O\n",
      "for: O\n",
      "that: O\n",
      "reason: O\n",
      "he: O\n",
      "is: O\n",
      "absent: O\n",
      "today: B-tim\n",
      "and: O\n",
      "they: O\n",
      "are: O\n",
      "planning: O\n",
      "to: O\n",
      "visit: O\n",
      "london: B-geo\n",
      "for: O\n",
      "health: O\n",
      "check: O\n",
      "up: O\n",
      "the: O\n",
      "day: O\n",
      "after: O\n",
      "tomorrow.: I-gpe\n"
     ]
    }
   ],
   "source": [
    "from tensorflow.keras.models import load_model\n",
    "import pickle\n",
    "import numpy as np\n",
    "from tensorflow.keras.preprocessing.sequence import pad_sequences\n",
    "\n",
    "# Load the saved model and associated files\n",
    "model = load_model(\"ner_model.h5\")\n",
    "\n",
    "with open(\"word2idx.pkl\", \"rb\") as f:\n",
    "    word2idx = pickle.load(f)\n",
    "with open(\"idx2tag.pkl\", \"rb\") as f:\n",
    "    idx2tag = pickle.load(f)\n",
    "with open(\"max_len.pkl\", \"rb\") as f:\n",
    "    max_len = pickle.load(f)\n",
    "\n",
    "def predict_ner(sentence):\n",
    "    # Split the sentence into words\n",
    "    words = sentence.split()\n",
    "    \n",
    "    # Convert words to indices based on the trained word2idx dictionary\n",
    "    x_input = [word2idx.get(word, 0) for word in words]  # Default to 0 if word is out of vocabulary\n",
    "    x_input = pad_sequences([x_input], maxlen=max_len, padding='post')  # Pad the sequence\n",
    "    \n",
    "    # Predict NER tags for the sentence\n",
    "    y_pred = model.predict(x_input)\n",
    "    y_pred_labels = np.argmax(y_pred, axis=-1)\n",
    "    \n",
    "    # Convert predicted labels back to tag names\n",
    "    predicted_tags = [idx2tag[i] for i in y_pred_labels[0]]\n",
    "    \n",
    "    # Return the words and their corresponding predicted NER tags\n",
    "    return list(zip(words, predicted_tags))\n",
    "\n",
    "# Function to test the model with user input\n",
    "def test_model():\n",
    "    sentence = input(\"Enter a sentence for NER prediction: \")\n",
    "    result = predict_ner(sentence)\n",
    "    \n",
    "    # Display the predicted tags for the words in the sentence\n",
    "    print(\"\\nPredicted NER Tags:\")\n",
    "    for word, tag in result:\n",
    "        print(f\"{word}: {tag}\")\n",
    "\n",
    "# Run the test function\n",
    "test_model()\n"
   ]
  },
  {
   "cell_type": "code",
   "execution_count": null,
   "id": "d47b5250-221a-4a60-b7e8-1bb0df4c8f73",
   "metadata": {},
   "outputs": [],
   "source": []
  }
 ],
 "metadata": {
  "kernelspec": {
   "display_name": "Python 3 (ipykernel)",
   "language": "python",
   "name": "python3"
  },
  "language_info": {
   "codemirror_mode": {
    "name": "ipython",
    "version": 3
   },
   "file_extension": ".py",
   "mimetype": "text/x-python",
   "name": "python",
   "nbconvert_exporter": "python",
   "pygments_lexer": "ipython3",
   "version": "3.8.20"
  }
 },
 "nbformat": 4,
 "nbformat_minor": 5
}
